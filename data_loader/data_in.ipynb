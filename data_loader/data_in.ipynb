{
  "nbformat": 4,
  "nbformat_minor": 0,
  "metadata": {
    "colab": {
      "name": "data_in.ipynb",
      "provenance": [],
      "private_outputs": true
    },
    "kernelspec": {
      "name": "python3",
      "display_name": "Python 3"
    }
  },
  "cells": [
    {
      "cell_type": "code",
      "metadata": {
        "id": "dX8FSjIGksRO",
        "colab_type": "code",
        "colab": {}
      },
      "source": [
        "import urllib, json\n",
        "import dload\n",
        "from math import sin, cos, sqrt, atan2, radians"
      ],
      "execution_count": 0,
      "outputs": []
    },
    {
      "cell_type": "code",
      "metadata": {
        "id": "LLjmUFoElE13",
        "colab_type": "code",
        "colab": {}
      },
      "source": [
        "# pip install dload"
      ],
      "execution_count": 0,
      "outputs": []
    },
    {
      "cell_type": "code",
      "metadata": {
        "id": "NsuHR3Dtk6L-",
        "colab_type": "code",
        "colab": {}
      },
      "source": [
        "url = \"https://biz-alert.ru/list\"\n",
        "j = dload.json(url)\n",
        "print(j)"
      ],
      "execution_count": 0,
      "outputs": []
    },
    {
      "cell_type": "code",
      "metadata": {
        "id": "mMriwdolmxYw",
        "colab_type": "code",
        "colab": {}
      },
      "source": [
        "data_2204 = pd.DataFrame(j)"
      ],
      "execution_count": 0,
      "outputs": []
    },
    {
      "cell_type": "code",
      "metadata": {
        "id": "mT6OjzyzlEXl",
        "colab_type": "code",
        "colab": {}
      },
      "source": [
        "data_2204.head(3)"
      ],
      "execution_count": 0,
      "outputs": []
    },
    {
      "cell_type": "markdown",
      "metadata": {
        "id": "D_pkW5I7sGrP",
        "colab_type": "text"
      },
      "source": [
        "## get distance"
      ]
    },
    {
      "cell_type": "code",
      "metadata": {
        "id": "64_mTEdEpR8m",
        "colab_type": "code",
        "colab": {}
      },
      "source": [
        "A = data_2204.loc[2][3]\n",
        "B = data_2204.loc[3][3]"
      ],
      "execution_count": 0,
      "outputs": []
    },
    {
      "cell_type": "code",
      "metadata": {
        "id": "nKFGAiuRqJxl",
        "colab_type": "code",
        "colab": {}
      },
      "source": [
        "A[1]"
      ],
      "execution_count": 0,
      "outputs": []
    },
    {
      "cell_type": "code",
      "metadata": {
        "id": "lU35gucBlo2i",
        "colab_type": "code",
        "colab": {}
      },
      "source": [
        "# R in km\n",
        "R = 6373.0\n",
        "\n",
        "lat1 = A[0]\n",
        "lon1 = A[1]\n",
        "lat2 = B[0]\n",
        "lon2 = B[1]\n",
        "\n",
        "dlon = lon2 - lon1\n",
        "dlat = lat2 - lat1\n",
        "\n",
        "a = sin(dlat / 2)**2 + cos(lat1) * cos(lat2) * sin(dlon / 2)**2\n",
        "c = 2 * atan2(sqrt(a), sqrt(1 - a))\n",
        "\n",
        "distance = R * c\n",
        "\n",
        "print(\"Result:\", distance)\n",
        "print(\"Should be:\", 278.546, \"km\")"
      ],
      "execution_count": 0,
      "outputs": []
    }
  ]
}